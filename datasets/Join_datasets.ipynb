{
 "cells": [
  {
   "cell_type": "code",
   "execution_count": 2,
   "source": [
    "import pandas as pd\r\n",
    "\r\n",
    "#load product table\r\n",
    "products = pd.read_excel('supermarket_products.xlsx')\r\n",
    "products = products.set_index('Product')\r\n",
    "\r\n",
    "#load transactions table\r\n",
    "transactions = pd.read_csv('march_2021_transactions_location_1.csv', index_col = 0)\r\n",
    "\r\n",
    "#join the tables\r\n",
    "joined_table = transactions.join(products, on='item')\r\n",
    "joined_table.head(5)"
   ],
   "outputs": [
    {
     "output_type": "execute_result",
     "data": {
      "text/html": [
       "<div>\n",
       "<style scoped>\n",
       "    .dataframe tbody tr th:only-of-type {\n",
       "        vertical-align: middle;\n",
       "    }\n",
       "\n",
       "    .dataframe tbody tr th {\n",
       "        vertical-align: top;\n",
       "    }\n",
       "\n",
       "    .dataframe thead th {\n",
       "        text-align: right;\n",
       "    }\n",
       "</style>\n",
       "<table border=\"1\" class=\"dataframe\">\n",
       "  <thead>\n",
       "    <tr style=\"text-align: right;\">\n",
       "      <th></th>\n",
       "      <th>timestamp</th>\n",
       "      <th>item</th>\n",
       "      <th>quantity</th>\n",
       "      <th>Category</th>\n",
       "      <th>Unit Cost of Goods</th>\n",
       "    </tr>\n",
       "  </thead>\n",
       "  <tbody>\n",
       "    <tr>\n",
       "      <th>0</th>\n",
       "      <td>2021-03-01 09:00:00</td>\n",
       "      <td>oranges</td>\n",
       "      <td>29</td>\n",
       "      <td>fruits</td>\n",
       "      <td>800</td>\n",
       "    </tr>\n",
       "    <tr>\n",
       "      <th>1</th>\n",
       "      <td>2021-03-01 09:00:00</td>\n",
       "      <td>laundry detergent</td>\n",
       "      <td>6</td>\n",
       "      <td>detergents</td>\n",
       "      <td>3000</td>\n",
       "    </tr>\n",
       "    <tr>\n",
       "      <th>2</th>\n",
       "      <td>2021-03-01 09:00:00</td>\n",
       "      <td>shampoo</td>\n",
       "      <td>4</td>\n",
       "      <td>personal care</td>\n",
       "      <td>3000</td>\n",
       "    </tr>\n",
       "    <tr>\n",
       "      <th>3</th>\n",
       "      <td>2021-03-01 10:00:00</td>\n",
       "      <td>beef</td>\n",
       "      <td>8</td>\n",
       "      <td>meat</td>\n",
       "      <td>5000</td>\n",
       "    </tr>\n",
       "    <tr>\n",
       "      <th>4</th>\n",
       "      <td>2021-03-01 10:00:00</td>\n",
       "      <td>coffee</td>\n",
       "      <td>3</td>\n",
       "      <td>beverages</td>\n",
       "      <td>200</td>\n",
       "    </tr>\n",
       "  </tbody>\n",
       "</table>\n",
       "</div>"
      ],
      "text/plain": [
       "             timestamp               item  quantity       Category  \\\n",
       "0  2021-03-01 09:00:00            oranges        29         fruits   \n",
       "1  2021-03-01 09:00:00  laundry detergent         6     detergents   \n",
       "2  2021-03-01 09:00:00            shampoo         4  personal care   \n",
       "3  2021-03-01 10:00:00               beef         8           meat   \n",
       "4  2021-03-01 10:00:00             coffee         3      beverages   \n",
       "\n",
       "   Unit Cost of Goods  \n",
       "0                 800  \n",
       "1                3000  \n",
       "2                3000  \n",
       "3                5000  \n",
       "4                 200  "
      ]
     },
     "metadata": {},
     "execution_count": 2
    }
   ],
   "metadata": {}
  },
  {
   "cell_type": "code",
   "execution_count": 1,
   "source": [
    "import pandas as pd\r\n",
    "import database_utils as dbu\r\n",
    "\r\n",
    "database = 'supermarket.db'\r\n",
    "query = '''\r\n",
    "    SELECT product\r\n",
    "    FROM products\r\n",
    "    WHERE 'Category' = 'meat'\r\n",
    "'''\r\n",
    "\r\n",
    "dbu.query_sql(sql=query, database=database)"
   ],
   "outputs": [
    {
     "output_type": "stream",
     "name": "stdout",
     "text": [
      "Query executed successfully!\n",
      "query returned 0 rows\n"
     ]
    }
   ],
   "metadata": {}
  },
  {
   "cell_type": "code",
   "execution_count": null,
   "source": [
    "import pandas as pd\r\n",
    "import database_utils as dbu\r\n",
    "\r\n",
    "database = 'supermarket.db'\r\n",
    "query = '''\r\n",
    "    with t1 as (\r\n",
    "        select product, location, sum (quantity) as total_quantity\r\n",
    "        from transactions\r\n",
    "        group by 1, 2\r\n",
    "    )'\r\n",
    "    t2 as (\r\n",
    "        select product, category\r\n",
    "        from products\r\n",
    "    ),\r\n",
    "    t3 as (\r\n",
    "        select product, category\r\n",
    "        products\r\n",
    "    )\r\n",
    "    select t3.category, sum(t1.total_quantity*t2.price) as revenue\r\n",
    "    from t1\r\n",
    "    left join t2 on t1.product=t2.product\r\n",
    "'''\r\n",
    "\r\n",
    "dbu.query_sql(sql=query, database=database)"
   ],
   "outputs": [],
   "metadata": {}
  }
 ],
 "metadata": {
  "kernelspec": {
   "name": "python3",
   "display_name": "Python 3.8.3 64-bit ('base': conda)"
  },
  "language_info": {
   "codemirror_mode": {
    "name": "ipython",
    "version": 3
   },
   "file_extension": ".py",
   "mimetype": "text/x-python",
   "name": "python",
   "nbconvert_exporter": "python",
   "pygments_lexer": "ipython3",
   "version": "3.8.3"
  },
  "interpreter": {
   "hash": "5c4848db6b90cc9041fe2fcf9d7ec87abb4f015412bbec2f0f208b982e7ecae8"
  }
 },
 "nbformat": 4,
 "nbformat_minor": 4
}