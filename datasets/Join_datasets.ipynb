{
 "cells": [
  {
   "cell_type": "code",
   "execution_count": null,
   "source": [
    "import pandas as pd\r\n",
    "\r\n",
    "#load product table\r\n",
    "products = pd.read_excel('supermarket_products.xlsx')\r\n",
    "products = products.set_index('Product')\r\n",
    "\r\n",
    "#load transactions table\r\n",
    "transactions = pd.read_csv('march_2021_transactions_location_1.csv', index_col = 0)\r\n",
    "\r\n",
    "#join the tables\r\n",
    "joined_table = transactions.join(products, on='item')\r\n",
    "joined_table.head"
   ],
   "outputs": [],
   "metadata": {}
  },
  {
   "cell_type": "code",
   "execution_count": null,
   "source": [
    "import pandas as pd\r\n",
    "import database_utils as dbu\r\n",
    "\r\n",
    "database = 'supermarket.db'\r\n",
    "query = '''\r\n",
    "    with t1 as (\r\n",
    "        select product, location, sum (quantity) as total_quantity\r\n",
    "        from transactions\r\n",
    "        group by 1, 2\r\n",
    "    )'\r\n",
    "    t2 as (\r\n",
    "        select product, category\r\n",
    "        from products\r\n",
    "    ),\r\n",
    "    t3 as (\r\n",
    "        select product, category\r\n",
    "        products\r\n",
    "    )\r\n",
    "    select t3.category, sum(t1.total_quantity*t2.price) as revenue\r\n",
    "    from t1\r\n",
    "    left join t2 on t1.product=t2.product\r\n",
    "'''\r\n",
    "\r\n",
    "dbu.query_sql(sql=query, database=database)"
   ],
   "outputs": [],
   "metadata": {}
  }
 ],
 "metadata": {
  "kernelspec": {
   "name": "python3",
   "display_name": "Python 3.8.3 64-bit ('base': conda)"
  },
  "language_info": {
   "codemirror_mode": {
    "name": "ipython",
    "version": 3
   },
   "file_extension": ".py",
   "mimetype": "text/x-python",
   "name": "python",
   "nbconvert_exporter": "python",
   "pygments_lexer": "ipython3",
   "version": "3.8.3"
  },
  "interpreter": {
   "hash": "5c4848db6b90cc9041fe2fcf9d7ec87abb4f015412bbec2f0f208b982e7ecae8"
  }
 },
 "nbformat": 4,
 "nbformat_minor": 4
}