{
 "cells": [
  {
   "cell_type": "code",
   "execution_count": null,
   "source": [
    "import pandas as pd\r\n",
    "import database_utils as dbu"
   ],
   "outputs": [],
   "metadata": {}
  },
  {
   "cell_type": "markdown",
   "source": [
    "# 1. Test products table"
   ],
   "metadata": {}
  },
  {
   "cell_type": "code",
   "execution_count": null,
   "source": [
    "query = '''\r\n",
    "    select * \r\n",
    "    from products\r\n",
    "    limit 5\r\n",
    "'''\r\n",
    "\r\n",
    "sample_products = dbu.query_sql(sql=query, database='supermarket.db')\r\n",
    "sample_products"
   ],
   "outputs": [],
   "metadata": {}
  },
  {
   "cell_type": "markdown",
   "source": [
    "# 2. Test transactions table"
   ],
   "metadata": {}
  },
  {
   "cell_type": "code",
   "execution_count": null,
   "source": [
    "query = '''\r\n",
    "    select * \r\n",
    "    from transactions\r\n",
    "    limit 3\r\n",
    "'''\r\n",
    "\r\n",
    "sample_transactions = dbu.query_sql(sql=query, database='supermarket.db')\r\n",
    "sample_transactions"
   ],
   "outputs": [],
   "metadata": {}
  },
  {
   "cell_type": "markdown",
   "source": [
    "# 3. Test Prices table"
   ],
   "metadata": {}
  },
  {
   "cell_type": "code",
   "execution_count": null,
   "source": [
    "query = '''\r\n",
    "    select * \r\n",
    "    from prices\r\n",
    "    limit 3\r\n",
    "'''\r\n",
    "\r\n",
    "sample_prices = dbu.query_sql(sql=query, database='supermarket.db')\r\n",
    "sample_prices"
   ],
   "outputs": [],
   "metadata": {}
  },
  {
   "cell_type": "code",
   "execution_count": null,
   "source": [
    "query = '''\r\n",
    "    select * \r\n",
    "    from products\r\n",
    "    order by Product asc\r\n",
    "'''\r\n",
    "\r\n",
    "sample_prices = dbu.query_sql(sql=query, database='supermarket.db')\r\n",
    "sample_prices"
   ],
   "outputs": [],
   "metadata": {}
  },
  {
   "cell_type": "markdown",
   "source": [
    "## Write a query that lists all products in the meet category"
   ],
   "metadata": {}
  },
  {
   "cell_type": "code",
   "execution_count": 2,
   "source": [
    "import pandas as pd\r\n",
    "import database_utils as dbu\r\n",
    "\r\n",
    "database = 'supermarket.db'\r\n",
    "\r\n",
    "query = '''\r\n",
    "    SELECT Product\r\n",
    "    FROM products\r\n",
    "    WHERE Category = 'meat'\r\n",
    "    '''\r\n",
    "dbu.query_sql(database=database, sql=query)"
   ],
   "outputs": [
    {
     "output_type": "stream",
     "name": "stdout",
     "text": [
      "Query executed successfully!\n",
      "query returned 4 rows\n"
     ]
    },
    {
     "output_type": "execute_result",
     "data": {
      "text/html": [
       "<div>\n",
       "<style scoped>\n",
       "    .dataframe tbody tr th:only-of-type {\n",
       "        vertical-align: middle;\n",
       "    }\n",
       "\n",
       "    .dataframe tbody tr th {\n",
       "        vertical-align: top;\n",
       "    }\n",
       "\n",
       "    .dataframe thead th {\n",
       "        text-align: right;\n",
       "    }\n",
       "</style>\n",
       "<table border=\"1\" class=\"dataframe\">\n",
       "  <thead>\n",
       "    <tr style=\"text-align: right;\">\n",
       "      <th></th>\n",
       "      <th>0</th>\n",
       "    </tr>\n",
       "  </thead>\n",
       "  <tbody>\n",
       "    <tr>\n",
       "      <th>0</th>\n",
       "      <td>chicken</td>\n",
       "    </tr>\n",
       "    <tr>\n",
       "      <th>1</th>\n",
       "      <td>beef</td>\n",
       "    </tr>\n",
       "    <tr>\n",
       "      <th>2</th>\n",
       "      <td>pork</td>\n",
       "    </tr>\n",
       "    <tr>\n",
       "      <th>3</th>\n",
       "      <td>tilapia</td>\n",
       "    </tr>\n",
       "  </tbody>\n",
       "</table>\n",
       "</div>"
      ],
      "text/plain": [
       "         0\n",
       "0  chicken\n",
       "1     beef\n",
       "2     pork\n",
       "3  tilapia"
      ]
     },
     "metadata": {},
     "execution_count": 2
    }
   ],
   "metadata": {}
  }
 ],
 "metadata": {
  "orig_nbformat": 4,
  "language_info": {
   "name": "python",
   "version": "3.8.3",
   "mimetype": "text/x-python",
   "codemirror_mode": {
    "name": "ipython",
    "version": 3
   },
   "pygments_lexer": "ipython3",
   "nbconvert_exporter": "python",
   "file_extension": ".py"
  },
  "kernelspec": {
   "name": "python3",
   "display_name": "Python 3.8.3 64-bit ('base': conda)"
  },
  "interpreter": {
   "hash": "5c4848db6b90cc9041fe2fcf9d7ec87abb4f015412bbec2f0f208b982e7ecae8"
  }
 },
 "nbformat": 4,
 "nbformat_minor": 2
}