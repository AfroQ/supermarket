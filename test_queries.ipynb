{
 "cells": [
  {
   "cell_type": "code",
   "execution_count": null,
   "source": [
    "import pandas as pd\r\n",
    "import database_utils as dbu"
   ],
   "outputs": [],
   "metadata": {}
  },
  {
   "cell_type": "markdown",
   "source": [
    "# 1. Test products table"
   ],
   "metadata": {}
  },
  {
   "cell_type": "code",
   "execution_count": null,
   "source": [
    "query = '''\r\n",
    "    select * \r\n",
    "    from products\r\n",
    "    limit 5\r\n",
    "'''\r\n",
    "\r\n",
    "sample_products = dbu.query_sql(sql=query, database='supermarket.db')\r\n",
    "sample_products"
   ],
   "outputs": [],
   "metadata": {}
  },
  {
   "cell_type": "markdown",
   "source": [
    "# 2. Test transactions table"
   ],
   "metadata": {}
  },
  {
   "cell_type": "code",
   "execution_count": null,
   "source": [
    "query = '''\r\n",
    "    select * \r\n",
    "    from transactions\r\n",
    "    limit 3\r\n",
    "'''\r\n",
    "\r\n",
    "sample_transactions = dbu.query_sql(sql=query, database='supermarket.db')\r\n",
    "sample_transactions"
   ],
   "outputs": [],
   "metadata": {}
  },
  {
   "cell_type": "markdown",
   "source": [
    "# 3. Test Prices table"
   ],
   "metadata": {}
  },
  {
   "cell_type": "code",
   "execution_count": null,
   "source": [
    "query = '''\r\n",
    "    select * \r\n",
    "    from prices\r\n",
    "    limit 3\r\n",
    "'''\r\n",
    "\r\n",
    "sample_prices = dbu.query_sql(sql=query, database='supermarket.db')\r\n",
    "sample_prices"
   ],
   "outputs": [],
   "metadata": {}
  },
  {
   "cell_type": "code",
   "execution_count": null,
   "source": [
    "query = '''\r\n",
    "    select * \r\n",
    "    from products\r\n",
    "    order by Product asc\r\n",
    "'''\r\n",
    "\r\n",
    "sample_prices = dbu.query_sql(sql=query, database='supermarket.db')\r\n",
    "sample_prices"
   ],
   "outputs": [],
   "metadata": {}
  },
  {
   "cell_type": "markdown",
   "source": [
    "## Write a SQL query that lists all products in the meet category"
   ],
   "metadata": {}
  },
  {
   "cell_type": "code",
   "execution_count": null,
   "source": [
    "import pandas as pd\r\n",
    "import database_utils as dbu\r\n",
    "\r\n",
    "database = 'supermarket.db'\r\n",
    "\r\n",
    "query = '''\r\n",
    "    SELECT Product\r\n",
    "    FROM products\r\n",
    "    WHERE Category = 'meat'\r\n",
    "    '''\r\n",
    "dbu.query_sql(database=database, sql=query)"
   ],
   "outputs": [],
   "metadata": {}
  },
  {
   "cell_type": "markdown",
   "source": [
    "## Use pandas to list all products in the meat category"
   ],
   "metadata": {}
  },
  {
   "cell_type": "code",
   "execution_count": null,
   "source": [
    "import pandas as pd\r\n",
    "\r\n",
    "#read data from excel spreadsheet and query the category for \"meat\" \r\n",
    "products = pd.read_excel('datasets/supermarket_products.xlsx')\r\n",
    "meats = products.query('Category==\"meat\"')\r\n",
    "meats.Product"
   ],
   "outputs": [],
   "metadata": {}
  },
  {
   "cell_type": "markdown",
   "source": [
    "## Write a query to list the 5 most expensive products and their corresponsing unit costs"
   ],
   "metadata": {}
  },
  {
   "cell_type": "code",
   "execution_count": null,
   "source": [
    "import pandas as pd\r\n",
    "import database_utils as dbu\r\n",
    "\r\n",
    "database = 'supermarket.db'\r\n",
    "\r\n",
    "query = '''\r\n",
    "    SELECT Product, unit_cost_of_goods\r\n",
    "    FROM products\r\n",
    "    ORDER BY 2 DESC\r\n",
    "    LIMIT 5\r\n",
    "    '''\r\n",
    "dbu.query_sql(database=database, sql=query)"
   ],
   "outputs": [],
   "metadata": {}
  },
  {
   "cell_type": "markdown",
   "source": [
    "## Use to list the 5 most expensive products and their corresponsing unit costs"
   ],
   "metadata": {}
  },
  {
   "cell_type": "code",
   "execution_count": 14,
   "source": [
    "import pandas as pd\r\n",
    "\r\n",
    "products = pd.read_excel('datasets/supermarket_products.xlsx')\r\n",
    "exp5 = products.sort_values(by=['Unit Cost of Goods'], ascending=False)[:5]\r\n",
    "exp5[['Product', 'Unit Cost of Goods']]"
   ],
   "outputs": [
    {
     "output_type": "execute_result",
     "data": {
      "text/html": [
       "<div>\n",
       "<style scoped>\n",
       "    .dataframe tbody tr th:only-of-type {\n",
       "        vertical-align: middle;\n",
       "    }\n",
       "\n",
       "    .dataframe tbody tr th {\n",
       "        vertical-align: top;\n",
       "    }\n",
       "\n",
       "    .dataframe thead th {\n",
       "        text-align: right;\n",
       "    }\n",
       "</style>\n",
       "<table border=\"1\" class=\"dataframe\">\n",
       "  <thead>\n",
       "    <tr style=\"text-align: right;\">\n",
       "      <th></th>\n",
       "      <th>Product</th>\n",
       "      <th>Unit Cost of Goods</th>\n",
       "    </tr>\n",
       "  </thead>\n",
       "  <tbody>\n",
       "    <tr>\n",
       "      <th>0</th>\n",
       "      <td>chicken</td>\n",
       "      <td>5500</td>\n",
       "    </tr>\n",
       "    <tr>\n",
       "      <th>1</th>\n",
       "      <td>beef</td>\n",
       "      <td>5000</td>\n",
       "    </tr>\n",
       "    <tr>\n",
       "      <th>2</th>\n",
       "      <td>pork</td>\n",
       "      <td>4000</td>\n",
       "    </tr>\n",
       "    <tr>\n",
       "      <th>3</th>\n",
       "      <td>tilapia</td>\n",
       "      <td>3500</td>\n",
       "    </tr>\n",
       "    <tr>\n",
       "      <th>4</th>\n",
       "      <td>laundry detergent</td>\n",
       "      <td>3000</td>\n",
       "    </tr>\n",
       "  </tbody>\n",
       "</table>\n",
       "</div>"
      ],
      "text/plain": [
       "             Product  Unit Cost of Goods\n",
       "0            chicken                5500\n",
       "1               beef                5000\n",
       "2               pork                4000\n",
       "3            tilapia                3500\n",
       "4  laundry detergent                3000"
      ]
     },
     "metadata": {},
     "execution_count": 14
    }
   ],
   "metadata": {}
  },
  {
   "cell_type": "code",
   "execution_count": null,
   "source": [
    "import pandas as pd\r\n",
    "import database_utils as dbu\r\n",
    "\r\n",
    "database = 'supermarket.db'\r\n",
    "query = '''\r\n",
    "    with t1 as (\r\n",
    "        select product, location, sum (quantity) as total_quantity\r\n",
    "        from transactions\r\n",
    "        group by 1, 2\r\n",
    "    )'\r\n",
    "    t2 as (\r\n",
    "        select product, category\r\n",
    "        from products\r\n",
    "    ),\r\n",
    "    t3 as (\r\n",
    "        select product, category\r\n",
    "        products\r\n",
    "    )\r\n",
    "    select t3.category, sum(t1.total_quantity*t2.price) as revenue\r\n",
    "    from t1\r\n",
    "    left join t2 on t1.product=t2.product\r\n",
    "'''\r\n",
    "\r\n",
    "dbu.query_sql(sql=query, database=database)"
   ],
   "outputs": [],
   "metadata": {}
  }
 ],
 "metadata": {
  "orig_nbformat": 4,
  "language_info": {
   "name": "python",
   "version": "3.8.3",
   "mimetype": "text/x-python",
   "codemirror_mode": {
    "name": "ipython",
    "version": 3
   },
   "pygments_lexer": "ipython3",
   "nbconvert_exporter": "python",
   "file_extension": ".py"
  },
  "kernelspec": {
   "name": "python3",
   "display_name": "Python 3.8.3 64-bit ('base': conda)"
  },
  "interpreter": {
   "hash": "5c4848db6b90cc9041fe2fcf9d7ec87abb4f015412bbec2f0f208b982e7ecae8"
  }
 },
 "nbformat": 4,
 "nbformat_minor": 2
}